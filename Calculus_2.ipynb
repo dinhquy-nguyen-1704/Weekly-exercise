{
  "nbformat": 4,
  "nbformat_minor": 0,
  "metadata": {
    "colab": {
      "provenance": [],
      "authorship_tag": "ABX9TyNBZ7/jLO3rmj4fHqdRN55K",
      "include_colab_link": true
    },
    "kernelspec": {
      "name": "python3",
      "display_name": "Python 3"
    },
    "language_info": {
      "name": "python"
    }
  },
  "cells": [
    {
      "cell_type": "markdown",
      "metadata": {
        "id": "view-in-github",
        "colab_type": "text"
      },
      "source": [
        "<a href=\"https://colab.research.google.com/github/dinhquy-nguyen-1704/Weekly_exercise/blob/main/Calculus_2.ipynb\" target=\"_parent\"><img src=\"https://colab.research.google.com/assets/colab-badge.svg\" alt=\"Open In Colab\"/></a>"
      ]
    },
    {
      "cell_type": "code",
      "source": [
        "from google.colab import drive\n",
        "drive.mount(\"/content/drive\")"
      ],
      "metadata": {
        "colab": {
          "base_uri": "https://localhost:8080/"
        },
        "id": "4tX0Pt6QmLuj",
        "outputId": "688a9ba2-a602-475f-e0da-306ba5d3790f"
      },
      "execution_count": 1,
      "outputs": [
        {
          "output_type": "stream",
          "name": "stdout",
          "text": [
            "Mounted at /content/drive\n"
          ]
        }
      ]
    },
    {
      "cell_type": "code",
      "source": [
        "%cd \"/content/drive/MyDrive\""
      ],
      "metadata": {
        "colab": {
          "base_uri": "https://localhost:8080/"
        },
        "id": "Vu4U5pBMma_a",
        "outputId": "220395ae-aca4-499d-e4da-d2343e6fcfed"
      },
      "execution_count": 2,
      "outputs": [
        {
          "output_type": "stream",
          "name": "stdout",
          "text": [
            "/content/drive/MyDrive\n"
          ]
        }
      ]
    },
    {
      "cell_type": "code",
      "execution_count": 8,
      "metadata": {
        "id": "sIWrOxbqAkMg"
      },
      "outputs": [],
      "source": [
        "# EXERCISE 1\n",
        "import numpy as np\n",
        "import matplotlib.pyplot as plt\n",
        "import pandas as pd\n",
        "\n",
        "def get_column(data, index):\n",
        "    return [i[index] for i in data]\n",
        "\n",
        "def prepare_data(file_name_dataset):\n",
        "    data = np.genfromtxt(file_name_dataset, delimiter=',', skip_header=1).tolist()\n",
        "    N = len(data)\n",
        "\n",
        "    tv_data = get_column(data, 0)\n",
        "    radio_data = get_column(data, 1)\n",
        "    newspaper_data = get_column(data, 2)\n",
        "    sales_data = get_column(data, 3)\n",
        "\n",
        "    X = [tv_data, radio_data, newspaper_data]\n",
        "    y = sales_data\n",
        "\n",
        "    return X, y, N"
      ]
    },
    {
      "cell_type": "code",
      "source": [
        "X,y, N = prepare_data('advertising.csv')\n",
        "lst = [sum(X[0][:5]), sum(X[1][:5]), sum(X[2][:5]), sum(y[:5])]\n",
        "print(lst)"
      ],
      "metadata": {
        "colab": {
          "base_uri": "https://localhost:8080/"
        },
        "id": "7toim8gmkkbl",
        "outputId": "d8c1fbf2-063e-477e-bd56-34f97d8e1173"
      },
      "execution_count": 9,
      "outputs": [
        {
          "output_type": "stream",
          "name": "stdout",
          "text": [
            "[624.1, 175.10000000000002, 300.5, 78.9]\n"
          ]
        }
      ]
    },
    {
      "cell_type": "markdown",
      "source": [
        "#ONE SAMPLE"
      ],
      "metadata": {
        "id": "ZEkBUQpqYZZL"
      }
    },
    {
      "cell_type": "code",
      "source": [
        "# EXERCISE 2\n",
        "import random\n",
        "\n",
        "def implement(X_data, y_data, epochs = 50, lr = 1e-5):\n",
        "    losses = []\n",
        "    N = len(y_data)\n",
        "    w1, w2, w3, b = initialize_params()\n",
        "    for epoch in range(epochs):\n",
        "        loss = []\n",
        "        for i in range(N):\n",
        "            x1 = X[0][i]\n",
        "            x2 = X[1][i]\n",
        "            x3 = X[2][i]\n",
        "            y = y_data[i]\n",
        "\n",
        "            y_hat = predict(x1, x2, x3, w1, w2, w3, b)\n",
        "\n",
        "            lossi = compute_mse_loss(y_hat, y)\n",
        "\n",
        "            dl_dw1 = compute_gradient_wi(x1, y, y_hat)\n",
        "            dl_dw2 = compute_gradient_wi(x2, y, y_hat)\n",
        "            dl_dw3 = compute_gradient_wi(x3, y, y_hat)\n",
        "            dl_db = compute_gradient_b(y, y_hat)\n",
        "\n",
        "            w1 = update_weight_wi(w1, dl_dw1, lr)\n",
        "            w2 = update_weight_wi(w2, dl_dw2, lr)\n",
        "            w3 = update_weight_wi(w3, dl_dw3, lr)\n",
        "            b = update_weight_b(b, dl_db, lr)\n",
        "\n",
        "            #loss.append(lossi)\n",
        "\n",
        "        #losses.append((1/N)*sum(loss))\n",
        "            losses.append(lossi)\n",
        "    return w1, w2, w3, b, losses\n",
        "\n",
        "def initialize_params():\n",
        "    w1 = random.gauss(mu=0.0, sigma=0.01)\n",
        "    w2 = random.gauss(mu=0.0, sigma=0.01)\n",
        "    w3 = random.gauss(mu=0.0, sigma=0.01)\n",
        "    b  = 0\n",
        "\n",
        "    w1, w2, w3, b = (0.016992259082509283, 0.0070783670518262355, -0.002307860847821344, 0)\n",
        "\n",
        "    return w1, w2, w3, b\n",
        "\n",
        "def predict(x1, x2, x3, w1, w2, w3, b):\n",
        "    return w1*x1 + w2*x2 + w3*x3 + b\n",
        "\n",
        "def compute_mse_loss(y_hat, y):\n",
        "    return (y_hat - y)**2\n",
        "\n",
        "def compute_gradient_wi(xi, y, y_hat):\n",
        "    return 2*xi*(y_hat - y)\n",
        "\n",
        "def compute_gradient_b(y, y_hat):\n",
        "    return 2*(y_hat - y)\n",
        "\n",
        "def update_weight_wi(wi, dl_dwi, lr):\n",
        "    return wi - lr*dl_dwi\n",
        "\n",
        "def update_weight_b(b, dl_db, lr):\n",
        "    return b - lr*dl_db"
      ],
      "metadata": {
        "id": "28pQEJuImHNQ"
      },
      "execution_count": 69,
      "outputs": []
    },
    {
      "cell_type": "code",
      "source": [
        "y_p = predict(x1=1, x2=1, x3=1, w1=0, w2=0.5, w3=0, b=0.5)\n",
        "print(y_p)"
      ],
      "metadata": {
        "colab": {
          "base_uri": "https://localhost:8080/"
        },
        "id": "EZazX7xgp8cZ",
        "outputId": "5a8bf66b-a1f1-46d3-a2b3-e0799b931a18"
      },
      "execution_count": 17,
      "outputs": [
        {
          "output_type": "stream",
          "name": "stdout",
          "text": [
            "1.0\n"
          ]
        }
      ]
    },
    {
      "cell_type": "code",
      "source": [
        "l = compute_mse_loss(y_hat=1, y=0.5)\n",
        "print(l)"
      ],
      "metadata": {
        "colab": {
          "base_uri": "https://localhost:8080/"
        },
        "id": "IRrZPcXo4ZEK",
        "outputId": "7e971026-fa7a-4b14-fb44-56e029a4c81c"
      },
      "execution_count": 21,
      "outputs": [
        {
          "output_type": "stream",
          "name": "stdout",
          "text": [
            "0.25\n"
          ]
        }
      ]
    },
    {
      "cell_type": "code",
      "source": [
        "g_wi = compute_gradient_wi(xi=1.0, y=1.0, y_hat=0.5)\n",
        "print(g_wi)"
      ],
      "metadata": {
        "colab": {
          "base_uri": "https://localhost:8080/"
        },
        "id": "i-Eo66Ce4lzB",
        "outputId": "fbd90f84-86f9-4a18-bc23-d0ca2074717a"
      },
      "execution_count": 22,
      "outputs": [
        {
          "output_type": "stream",
          "name": "stdout",
          "text": [
            "-1.0\n"
          ]
        }
      ]
    },
    {
      "cell_type": "code",
      "source": [
        "g_b =  compute_gradient_b(y=2.0, y_hat=0.5)\n",
        "print(g_b)"
      ],
      "metadata": {
        "colab": {
          "base_uri": "https://localhost:8080/"
        },
        "id": "GVBIREce5O4b",
        "outputId": "24d06d3e-e6b5-400e-c7aa-353805a9a29e"
      },
      "execution_count": 23,
      "outputs": [
        {
          "output_type": "stream",
          "name": "stdout",
          "text": [
            "-3.0\n"
          ]
        }
      ]
    },
    {
      "cell_type": "code",
      "source": [
        "after_wi = update_weight_wi(wi=1.0, dl_dwi=-0.5, lr=1e-5)\n",
        "print(after_wi)"
      ],
      "metadata": {
        "colab": {
          "base_uri": "https://localhost:8080/"
        },
        "id": "3Li-5uXS5X6j",
        "outputId": "e516dda7-1cf3-4ce7-d5ef-e5959f020f22"
      },
      "execution_count": 24,
      "outputs": [
        {
          "output_type": "stream",
          "name": "stdout",
          "text": [
            "1.000005\n"
          ]
        }
      ]
    },
    {
      "cell_type": "code",
      "source": [
        "after_b = update_weight_b(b=0.5, dl_db=-1.0, lr=1e-5)\n",
        "print(after_b)"
      ],
      "metadata": {
        "colab": {
          "base_uri": "https://localhost:8080/"
        },
        "id": "t5JzmMzP5lFQ",
        "outputId": "63bbf955-dd07-402a-ee9b-f4dde21f1c76"
      },
      "execution_count": 25,
      "outputs": [
        {
          "output_type": "stream",
          "name": "stdout",
          "text": [
            "0.50001\n"
          ]
        }
      ]
    },
    {
      "cell_type": "code",
      "source": [
        "X, y, N = prepare_data('advertising.csv')\n",
        "w1, w2, w3, b, losses = implement(X, y)\n",
        "plt.plot(losses[:100])\n",
        "plt.xlabel(\"#iteration\")\n",
        "plt.ylabel(\"Loss\")\n",
        "plt.show()"
      ],
      "metadata": {
        "colab": {
          "base_uri": "https://localhost:8080/",
          "height": 449
        },
        "id": "rXGnJ9zK5uz5",
        "outputId": "2e43018c-883b-4915-b164-dc8f9f96260a"
      },
      "execution_count": 15,
      "outputs": [
        {
          "output_type": "display_data",
          "data": {
            "text/plain": [
              "<Figure size 640x480 with 1 Axes>"
            ],
            "image/png": "[encoded data removed]"
          },
          "metadata": {}
        }
      ]
    },
    {
      "cell_type": "code",
      "source": [
        "X, y, N = prepare_data('advertising.csv')\n",
        "(w1, w2, w3, b, losses) = implement(X,y)\n",
        "print(w1, w2, w3)"
      ],
      "metadata": {
        "colab": {
          "base_uri": "https://localhost:8080/"
        },
        "id": "-pnwcKVl81Cf",
        "outputId": "aa3b5424-427f-45af-8a2a-1f7f8fe7acf5"
      },
      "execution_count": 16,
      "outputs": [
        {
          "output_type": "stream",
          "name": "stdout",
          "text": [
            "0.07405984066396477 0.15917360263437663 0.017561197559948935\n"
          ]
        }
      ]
    },
    {
      "cell_type": "code",
      "source": [
        "tv = 19.2\n",
        "radio = 35.9\n",
        "newspaper = 51.3\n",
        "\n",
        "X,y, NameError = prepare_data('advertising.csv')\n",
        "(w1,w2,w3, b, losses) = implement(X, y, epochs = 50, lr = 1e-5)\n",
        "sales = predict(tv, radio, newspaper, w1, w2, w3, b)\n",
        "print(f'predicted sales is {sales}')"
      ],
      "metadata": {
        "colab": {
          "base_uri": "https://localhost:8080/"
        },
        "id": "l6ob9QV2_z4h",
        "outputId": "6b614933-187b-4d1a-c8ec-fe038da2e072"
      },
      "execution_count": 17,
      "outputs": [
        {
          "output_type": "stream",
          "name": "stdout",
          "text": [
            "predicted sales is 8.176413319549823\n"
          ]
        }
      ]
    },
    {
      "cell_type": "markdown",
      "source": [
        "#N-SAMPLES"
      ],
      "metadata": {
        "id": "bbu0fQDPYoie"
      }
    },
    {
      "cell_type": "code",
      "source": [
        "# EXERCISE 2 - MAE\n",
        "import random\n",
        "\n",
        "def implement(X_data, y_data, epochs = 50, lr = 1e-5):\n",
        "    losses = []\n",
        "    N = len(y_data)\n",
        "    w1, w2, w3, b = initialize_params()\n",
        "    for epoch in range(epochs):\n",
        "\n",
        "        dw1_total = 0.0\n",
        "        dw2_total = 0.0\n",
        "        dw3_total = 0.0\n",
        "        db_total  = 0.0\n",
        "        loss_total = 0.0\n",
        "\n",
        "        for i in range(N):\n",
        "            x1 = X_data[0][i]\n",
        "            x2 = X_data[1][i]\n",
        "            x3 = X_data[2][i]\n",
        "            y = y_data[i]\n",
        "\n",
        "            y_hat = predict(x1, x2, x3, w1, w2, w3, b)\n",
        "\n",
        "            lossi = compute_mae_loss(y_hat, y)\n",
        "\n",
        "            loss_total += lossi\n",
        "\n",
        "            dl_dw1 = compute_gradient_wi(x1, y, y_hat)\n",
        "            dl_dw2 = compute_gradient_wi(x2, y, y_hat)\n",
        "            dl_dw3 = compute_gradient_wi(x3, y, y_hat)\n",
        "            dl_db = compute_gradient_b(y, y_hat)\n",
        "\n",
        "            dw1_total += dl_dw1\n",
        "            dw2_total += dl_dw2\n",
        "            dw3_total += dl_dw3\n",
        "            db_total += dl_db\n",
        "\n",
        "        w1 = update_weight_wi(w1, dw1_total/N, lr)\n",
        "        w2 = update_weight_wi(w2, dw2_total/N, lr)\n",
        "        w3 = update_weight_wi(w3, dw3_total/N, lr)\n",
        "        b = update_weight_b(b, db_total/N, lr)\n",
        "\n",
        "        losses.append(loss_total/N)\n",
        "\n",
        "    return w1, w2, w3, b, losses\n",
        "\n",
        "def initialize_params():\n",
        "    w1 = random.gauss(mu=0.0, sigma=0.01)\n",
        "    w2 = random.gauss(mu=0.0, sigma=0.01)\n",
        "    w3 = random.gauss(mu=0.0, sigma=0.01)\n",
        "    b  = 0\n",
        "\n",
        "    w1, w2, w3, b = (0.016992259082509283, 0.0070783670518262355, -0.002307860847821344, 0)\n",
        "\n",
        "    return w1, w2, w3, b\n",
        "\n",
        "def predict(x1, x2, x3, w1, w2, w3, b):\n",
        "    return w1*x1 + w2*x2 + w3*x3 + b\n",
        "\n",
        "def compute_mae_loss(y_hat, y):\n",
        "    return abs(y_hat - y)\n",
        "\n",
        "def compute_gradient_wi(xi, y, y_hat):\n",
        "    return xi/(abs(y_hat - y))*(y_hat-y)\n",
        "\n",
        "def compute_gradient_b(y, y_hat):\n",
        "    return 1/(abs(y_hat - y))*(y_hat-y)\n",
        "\n",
        "def update_weight_wi(wi, dwi_total, lr):\n",
        "    return wi - lr*(dwi_total)\n",
        "\n",
        "def update_weight_b(b, db_total, lr):\n",
        "    return b - lr*(db_total)"
      ],
      "metadata": {
        "id": "fmYlhFjxA8sR"
      },
      "execution_count": 75,
      "outputs": []
    },
    {
      "cell_type": "code",
      "source": [
        "l = compute_mae_loss(y_hat=1, y=0.5)\n",
        "print(l)"
      ],
      "metadata": {
        "colab": {
          "base_uri": "https://localhost:8080/"
        },
        "id": "jMGBON2jf8YP",
        "outputId": "7bcaf4dc-3f15-41c5-a379-4929f279e061"
      },
      "execution_count": 76,
      "outputs": [
        {
          "output_type": "stream",
          "name": "stdout",
          "text": [
            "0.5\n"
          ]
        }
      ]
    },
    {
      "cell_type": "code",
      "source": [
        "X, y, N = prepare_data('advertising.csv')\n",
        "(w1, w2, w3, b, losses) = implement(X, y, 1000)\n",
        "plt.plot(losses)\n",
        "plt.xlabel(\"#epoch\")\n",
        "plt.ylabel(\"MAE Loss\")\n",
        "plt.show()"
      ],
      "metadata": {
        "colab": {
          "base_uri": "https://localhost:8080/",
          "height": 449
        },
        "id": "EUlOCIhJfFlo",
        "outputId": "86c939da-70b9-4c72-b014-86556c457d25"
      },
      "execution_count": 77,
      "outputs": [
        {
          "output_type": "display_data",
          "data": {
            "text/plain": [
              "<Figure size 640x480 with 1 Axes>"
            ],
            "image/png": "[encoded data removed]"
          },
          "metadata": {}
        }
      ]
    },
    {
      "cell_type": "code",
      "source": [
        "X, y, N = prepare_data('advertising.csv')\n",
        "(w1, w2, w3, b, losses) = implement(X, y, 1000)\n",
        "print(w1, w2, w3)"
      ],
      "metadata": {
        "colab": {
          "base_uri": "https://localhost:8080/"
        },
        "id": "hOhQeZakfX6J",
        "outputId": "5c73f50c-1e58-4ae5-f946-873ce0977fab"
      },
      "execution_count": 78,
      "outputs": [
        {
          "output_type": "stream",
          "name": "stdout",
          "text": [
            "0.06983029908250925 0.09743962705182684 0.06188479915217928\n"
          ]
        }
      ]
    },
    {
      "cell_type": "code",
      "source": [
        "# EXERCISE 2 - MSE\n",
        "import random\n",
        "\n",
        "def implement(X_data, y_data, epochs = 50, lr = 1e-5):\n",
        "    losses = []\n",
        "    N = len(y_data)\n",
        "    w1, w2, w3, b = initialize_params()\n",
        "    for epoch in range(epochs):\n",
        "\n",
        "        dw1_total = 0.0\n",
        "        dw2_total = 0.0\n",
        "        dw3_total = 0.0\n",
        "        db_total  = 0.0\n",
        "        loss_total = 0.0\n",
        "\n",
        "        for i in range(N):\n",
        "            x1 = X_data[0][i]\n",
        "            x2 = X_data[1][i]\n",
        "            x3 = X_data[2][i]\n",
        "            y = y_data[i]\n",
        "\n",
        "            y_hat = predict(x1, x2, x3, w1, w2, w3, b)\n",
        "\n",
        "            lossi = compute_mse_loss(y_hat, y)\n",
        "\n",
        "            loss_total += lossi\n",
        "\n",
        "            dl_dw1 = compute_gradient_wi(x1, y, y_hat)\n",
        "            dl_dw2 = compute_gradient_wi(x2, y, y_hat)\n",
        "            dl_dw3 = compute_gradient_wi(x3, y, y_hat)\n",
        "            dl_db = compute_gradient_b(y, y_hat)\n",
        "\n",
        "            dw1_total += dl_dw1\n",
        "            dw2_total += dl_dw2\n",
        "            dw3_total += dl_dw3\n",
        "            db_total += dl_db\n",
        "\n",
        "        w1 = update_weight_wi(w1, dw1_total/N, lr)\n",
        "        w2 = update_weight_wi(w2, dw2_total/N, lr)\n",
        "        w3 = update_weight_wi(w3, dw3_total/N, lr)\n",
        "        b = update_weight_b(b, db_total/N, lr)\n",
        "\n",
        "        losses.append(loss_total/N)\n",
        "\n",
        "    return w1, w2, w3, b, losses\n",
        "\n",
        "def initialize_params():\n",
        "    w1 = random.gauss(mu=0.0, sigma=0.01)\n",
        "    w2 = random.gauss(mu=0.0, sigma=0.01)\n",
        "    w3 = random.gauss(mu=0.0, sigma=0.01)\n",
        "    b  = 0\n",
        "\n",
        "    w1, w2, w3, b = (0.016992259082509283, 0.0070783670518262355, -0.002307860847821344, 0)\n",
        "\n",
        "    return w1, w2, w3, b\n",
        "\n",
        "def predict(x1, x2, x3, w1, w2, w3, b):\n",
        "    return w1*x1 + w2*x2 + w3*x3 + b\n",
        "\n",
        "def compute_mse_loss(y_hat, y):\n",
        "    return (y_hat - y)**2\n",
        "\n",
        "def compute_gradient_wi(xi, y, y_hat):\n",
        "    return 2*xi*(y_hat - y)\n",
        "\n",
        "def compute_gradient_b(y, y_hat):\n",
        "    return 2*(y_hat - y)\n",
        "\n",
        "def update_weight_wi(wi, dwi_total, lr):\n",
        "    return wi - lr*(dwi_total)\n",
        "\n",
        "def update_weight_b(b, db_total, lr):\n",
        "    return b - lr*(db_total)"
      ],
      "metadata": {
        "id": "WprLQ7uqW3VX"
      },
      "execution_count": 6,
      "outputs": []
    },
    {
      "cell_type": "code",
      "source": [
        "X, y, N = prepare_data('advertising.csv')\n",
        "(w1, w2, w3, b, losses) = implement(X, y, 1000)\n",
        "print(w1, w2, w3)"
      ],
      "metadata": {
        "colab": {
          "base_uri": "https://localhost:8080/"
        },
        "id": "5V8QnMO7X9CM",
        "outputId": "bd183773-c6bc-41d8-c987-4e7a4685a100"
      },
      "execution_count": 7,
      "outputs": [
        {
          "output_type": "stream",
          "name": "stdout",
          "text": [
            "0.06710990754044266 0.15756173831487585 0.029619799386084403\n"
          ]
        }
      ]
    },
    {
      "cell_type": "markdown",
      "source": [
        "#MATRIX"
      ],
      "metadata": {
        "id": "O97HFwXCgndG"
      }
    },
    {
      "cell_type": "code",
      "source": [
        "# EXERCISE 3\n",
        "def prepare_data(file_name_dataset):\n",
        "  data = np.genfromtxt(file_name_dataset, delimiter=',', skip_header=1).tolist()\n",
        "\n",
        "  # get tv (index=0)\n",
        "  tv_data = get_column(data, 0)\n",
        "\n",
        "  # get radio (index=1)\n",
        "  radio_data = get_column(data, 1)\n",
        "\n",
        "  # get newspaper (index=2)\n",
        "  newspaper_data = get_column(data, 2)\n",
        "\n",
        "  # get sales (index=3)\n",
        "  sales_data = get_column(data, 3)\n",
        "\n",
        "  # building X input  and y output for training\n",
        "  #Create list of features for input\n",
        "  X = [[1, x1, x2, x3] for x1, x2, x3 in zip(tv_data, radio_data, newspaper_data)]\n",
        "  y = sales_data\n",
        "\n",
        "  return X, y\n",
        "\n",
        "X, y = prepare_data(\"advertising.csv\")\n",
        "print(np.array(X)[0])"
      ],
      "metadata": {
        "colab": {
          "base_uri": "https://localhost:8080/"
        },
        "id": "F3-MpFPwYB9q",
        "outputId": "5bae82c5-5060-4d0e-e684-105a61b168d8"
      },
      "execution_count": 18,
      "outputs": [
        {
          "output_type": "stream",
          "name": "stdout",
          "text": [
            "[  1.  230.1  37.8  69.2]\n"
          ]
        }
      ]
    },
    {
      "cell_type": "code",
      "source": [
        "def initialize_params():\n",
        "    bias = 0\n",
        "    w1 = random.gauss(mu=0.0, sigma=0.01)\n",
        "    w2 = random.gauss(mu=0.0, sigma=0.01)\n",
        "    w3 = random.gauss(mu=0.0, sigma=0.01)\n",
        "\n",
        "    return [0, 0.016992259082509283, 0.0070783670518262355, -0.002307860847821344]\n",
        "    # return [bias, w1, w2, w3]"
      ],
      "metadata": {
        "id": "6gFW-JCGZter"
      },
      "execution_count": 11,
      "outputs": []
    },
    {
      "cell_type": "code",
      "source": [
        "#Predict ouput by using y = x0*b + x1*w1 + x2*w2 + x3*w3\n",
        "\n",
        "def predict(X_features, weights):\n",
        "    result = weights.T @ np.array(X_features)\n",
        "    return result\n",
        "\n",
        "def compute_loss(y_hat, y):\n",
        "    return (y_hat - y)**2\n",
        "\n",
        "# compute gradient\n",
        "def compute_gradient_w(X_features, y, y_hat):\n",
        "    dl_dweights = 2*(y_hat - y)*np.array(X_features)\n",
        "    return dl_dweights\n",
        "\n",
        "# update weights\n",
        "def update_weight(weights, dl_dweights, lr):\n",
        "    weights = weights - lr*dl_dweights\n",
        "    return weights"
      ],
      "metadata": {
        "id": "-QfHKBokZwax"
      },
      "execution_count": 33,
      "outputs": []
    },
    {
      "cell_type": "code",
      "source": [
        "def implement_linear_regression(X_feature, y_output, epoch_max=50, lr=1e-5):\n",
        "\n",
        "  losses = []\n",
        "  weights = np.array(initialize_params())\n",
        "  N = len(y_output)\n",
        "  for epoch in range(epoch_max):\n",
        "      for i in range(N):\n",
        "          # get a sample - row i\n",
        "          features_i = X_feature[i]\n",
        "          y = y_output[i]\n",
        "\n",
        "          # compute output\n",
        "          y_hat = predict(features_i, weights)\n",
        "\n",
        "          # compute loss\n",
        "          loss = compute_loss(y, y_hat)\n",
        "\n",
        "          # compute gradient w1, w2, w3, b\n",
        "          dl_dweights = compute_gradient_w(features_i, y, y_hat)\n",
        "\n",
        "          # update parameters\n",
        "          weights = update_weight(weights, dl_dweights, lr)\n",
        "\n",
        "          # logging\n",
        "          losses.append(loss)\n",
        "  return weights, losses"
      ],
      "metadata": {
        "id": "gMUoshVpeL-F"
      },
      "execution_count": 34,
      "outputs": []
    },
    {
      "cell_type": "code",
      "source": [
        "X, y = prepare_data('advertising.csv')\n",
        "W,L = implement_linear_regression(X,y)\n",
        "plt.plot(L[0:100])\n",
        "plt.xlabel(\"#iteration\")\n",
        "plt.ylabel(\"Loss\")\n",
        "plt.show()"
      ],
      "metadata": {
        "colab": {
          "base_uri": "https://localhost:8080/",
          "height": 449
        },
        "id": "XQw5phvnedSU",
        "outputId": "1e8e5167-f138-41b0-e2fe-fe8d3ea5e51f"
      },
      "execution_count": 35,
      "outputs": [
        {
          "output_type": "display_data",
          "data": {
            "text/plain": [
              "<Figure size 640x480 with 1 Axes>"
            ],
            "image/png": "[encoded data removed]"
          },
          "metadata": {}
        }
      ]
    },
    {
      "cell_type": "code",
      "source": [
        "X, y = prepare_data('advertising.csv')\n",
        "W,L = implement_linear_regression(X,y)\n",
        "# Print loss value at interation 9999\n",
        "print(L[9999])"
      ],
      "metadata": {
        "colab": {
          "base_uri": "https://localhost:8080/"
        },
        "id": "xpuJZ_45efe0",
        "outputId": "bab8d2bf-1211-4a89-8e98-520ad8b5d421"
      },
      "execution_count": 36,
      "outputs": [
        {
          "output_type": "stream",
          "name": "stdout",
          "text": [
            "31.338878034644296\n"
          ]
        }
      ]
    },
    {
      "cell_type": "markdown",
      "source": [
        "#MIN-MAX"
      ],
      "metadata": {
        "id": "nf4q5i4ugue4"
      }
    },
    {
      "cell_type": "code",
      "source": [
        "# EXERCISE 4\n",
        "def min_max_scaling(data1, data2, data3):\n",
        "    max_data_1 = max(data1)\n",
        "    max_data_2 = max(data2)\n",
        "    max_data_3 = max(data3)\n",
        "\n",
        "    min_data_1 = min(data1)\n",
        "    min_data_2 = min(data2)\n",
        "    min_data_3 = min(data3)\n",
        "\n",
        "    data1 = [(data - min_data_1) / (max(data1) - min(data1)) for data in data1]\n",
        "    data2 = [(data - min_data_2) / (max(data2) - min(data2)) for data in data2]\n",
        "    data3 = [(data - min_data_3) / (max(data3) - min(data3)) for data in data3]\n",
        "\n",
        "    return (data1, data2, data3), (max_data_1, max_data_2, max_data_3, min_data_1, min_data_2, min_data_3)"
      ],
      "metadata": {
        "id": "uIXk1Py2gLPA"
      },
      "execution_count": 44,
      "outputs": []
    },
    {
      "cell_type": "code",
      "source": [
        "def prepare_data(file_name_dataset):\n",
        "  data = np.genfromtxt(file_name_dataset, delimiter=',', skip_header=1).tolist()\n",
        "\n",
        "  # get tv (index=0)\n",
        "  tv_data = get_column(data, 0)\n",
        "\n",
        "  # get radio (index=1)\n",
        "  radio_data = get_column(data, 1)\n",
        "\n",
        "  # get newspaper (index=2)\n",
        "  newspaper_data = get_column(data, 2)\n",
        "\n",
        "  # get sales (index=3)\n",
        "  sales_data = get_column(data, 3)\n",
        "\n",
        "  # scale data (only for features)\n",
        "  # remenber to scale input features in inference, therefore, we need to save max, min and mean values\n",
        "  (tv_data, radio_data, newspaper_data), (max_data_1, max_data_2, max_data_3, min_data_1, min_data_2, min_data_3) = min_max_scaling(tv_data,radio_data,newspaper_data)\n",
        "\n",
        "  # building X input  and y output for training\n",
        "  #Create list of features for input\n",
        "  X = [[1, x1, x2, x3] for x1, x2, x3 in zip(tv_data, radio_data, newspaper_data)]\n",
        "  y = sales_data\n",
        "  return X, y"
      ],
      "metadata": {
        "id": "f0LE2cjohjaX"
      },
      "execution_count": 45,
      "outputs": []
    },
    {
      "cell_type": "code",
      "source": [
        "def predict(X_features, weights):\n",
        "    return sum([f*w for f, w in zip(X_features, weights)])\n",
        "\n",
        "def compute_loss(y_hat, y):\n",
        "    return (y_hat - y)**2\n",
        "\n",
        "# compute gradient\n",
        "def compute_gradient_w(X_features, y, y_hat):\n",
        "    dl_dweights = [2*xi*(y_hat-y) for xi in X_features]\n",
        "    return dl_dweights\n",
        "\n",
        "# update weights\n",
        "def update_weight(weights, dl_dweights, lr):\n",
        "    weights = [w - lr*dw for w, dw in zip(weights, dl_dweights)]\n",
        "    return weights"
      ],
      "metadata": {
        "id": "mlzONGhYhm_S"
      },
      "execution_count": 46,
      "outputs": []
    },
    {
      "cell_type": "code",
      "source": [
        "def initialize_params():\n",
        "    bias = 0\n",
        "    w1 = random.gauss(mu=0.0, sigma=0.01)\n",
        "    w2 = random.gauss(mu=0.0, sigma=0.01)\n",
        "    w3 = random.gauss(mu=0.0, sigma=0.01)\n",
        "\n",
        "    return [0, 0.016992259082509283, 0.0070783670518262355, -0.002307860847821344]\n",
        "    # return [bias, w1, w2, w3]"
      ],
      "metadata": {
        "id": "OxnenxMvh0BO"
      },
      "execution_count": 47,
      "outputs": []
    },
    {
      "cell_type": "code",
      "source": [
        "def implement_linear_regression(X_feature, y_ouput, epoch_max=50, lr=0.01):\n",
        "\n",
        "  losses = []\n",
        "  weights = initialize_params()\n",
        "  N = len(y_ouput)\n",
        "  for epoch in range(epoch_max):\n",
        "      for i in range(N):\n",
        "          # get a sample - row i\n",
        "          features_i = X_feature[i]\n",
        "          y = y_ouput[i]\n",
        "\n",
        "          # compute output\n",
        "          y_hat = predict(features_i, weights)\n",
        "\n",
        "          # compute loss\n",
        "          loss = compute_loss(y, y_hat)\n",
        "\n",
        "          # compute gradient w1, w2, w3, b\n",
        "          dl_dweights = compute_gradient_w(features_i, y, y_hat)\n",
        "\n",
        "          # update parameters\n",
        "          weights = update_weight(weights, dl_dweights, lr)\n",
        "\n",
        "          # logging\n",
        "          losses.append(loss)\n",
        "  return weights, losses"
      ],
      "metadata": {
        "id": "nCnxLLJgh2ME"
      },
      "execution_count": 48,
      "outputs": []
    },
    {
      "cell_type": "code",
      "source": [
        "X,y = prepare_data('advertising.csv')\n",
        "W,L = implement_linear_regression(X,y)\n",
        "plt.plot(L[0:100])\n",
        "plt.xlabel(\"#iteration\")\n",
        "plt.ylabel(\"Loss\")\n",
        "plt.show()"
      ],
      "metadata": {
        "colab": {
          "base_uri": "https://localhost:8080/",
          "height": 449
        },
        "id": "lwK3tgbPh4jl",
        "outputId": "04055225-0933-4329-c847-8dd02b9c92cf"
      },
      "execution_count": 49,
      "outputs": [
        {
          "output_type": "display_data",
          "data": {
            "text/plain": [
              "<Figure size 640x480 with 1 Axes>"
            ],
            "image/png": "[encoded data removed]"
          },
          "metadata": {}
        }
      ]
    },
    {
      "cell_type": "code",
      "source": [
        "X,y = prepare_data('advertising.csv')\n",
        "W,L = implement_linear_regression(X,y)\n",
        "plt.plot(L[-100:])\n",
        "plt.xlabel(\"#iteration\")\n",
        "plt.ylabel(\"MSE loss\")\n",
        "plt.show()"
      ],
      "metadata": {
        "colab": {
          "base_uri": "https://localhost:8080/",
          "height": 449
        },
        "id": "5CGJuiPch8KM",
        "outputId": "7a71cb0d-f346-4ec0-e1df-4b5f140d2c80"
      },
      "execution_count": 50,
      "outputs": [
        {
          "output_type": "display_data",
          "data": {
            "text/plain": [
              "<Figure size 640x480 with 1 Axes>"
            ],
            "image/png": "[encoded data removed]"
          },
          "metadata": {}
        }
      ]
    }
  ]
}