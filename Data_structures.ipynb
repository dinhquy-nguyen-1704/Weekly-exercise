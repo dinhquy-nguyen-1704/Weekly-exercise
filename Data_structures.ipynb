{
  "nbformat": 4,
  "nbformat_minor": 0,
  "metadata": {
    "colab": {
      "provenance": [],
      "authorship_tag": "ABX9TyMn8Z7bTNjaRT6KAXTvV3NK",
      "include_colab_link": true
    },
    "kernelspec": {
      "name": "python3",
      "display_name": "Python 3"
    },
    "language_info": {
      "name": "python"
    }
  },
  "cells": [
    {
      "cell_type": "markdown",
      "metadata": {
        "id": "view-in-github",
        "colab_type": "text"
      },
      "source": [
        "<a href=\"https://colab.research.google.com/github/dinhquy-nguyen-1704/Weekly-exercise/blob/main/Data_structures.ipynb\" target=\"_parent\"><img src=\"https://colab.research.google.com/assets/colab-badge.svg\" alt=\"Open In Colab\"/></a>"
      ]
    },
    {
      "cell_type": "markdown",
      "source": [
        "### EXERCISE 1"
      ],
      "metadata": {
        "id": "n8hEaeB0aDbT"
      }
    },
    {
      "cell_type": "code",
      "execution_count": null,
      "metadata": {
        "colab": {
          "base_uri": "https://localhost:8080/"
        },
        "id": "jS5iVWJRVTtT",
        "outputId": "a931f324-1274-4e19-bef5-dd93207869c9"
      },
      "outputs": [
        {
          "output_type": "stream",
          "name": "stdout",
          "text": [
            "[5, 5, 5, 5, 10, 12, 33, 33]\n"
          ]
        }
      ],
      "source": [
        "def max_in_window( num_list , k = 3):\n",
        "    max_lst = []\n",
        "    if k <= len(num_list):\n",
        "      for i in range(len(num_list) - k + 1):\n",
        "        max_i = max(num_list[i:(i+k)])\n",
        "        max_lst.append(max_i)\n",
        "    else :\n",
        "      max_lst.append(max(num_list))\n",
        "    return max_lst\n",
        "\n",
        "test = [3, 4, 5, 1, -44]\n",
        "assert max_in_window(num_list = test, k = 3) == [5 , 5 , 5]\n",
        "\n",
        "num_list = [3, 4, 5, 1, -44, 5, 10, 12, 33, 1]\n",
        "print(max_in_window(num_list = num_list, k = 3))"
      ]
    },
    {
      "cell_type": "markdown",
      "source": [
        "###EXERCISE 2"
      ],
      "metadata": {
        "id": "4BonnLElaI9-"
      }
    },
    {
      "cell_type": "code",
      "source": [
        "def intersection(lst1, lst2):\n",
        "  lst = []\n",
        "  for i in list(set(lst1)):\n",
        "    for j in list(set(lst2)):\n",
        "      if i == j:\n",
        "        lst.append(i)\n",
        "  \n",
        "  return lst\n",
        "\n",
        "test_list1 = [4 , 9]\n",
        "test_list2 = [9 , 2]\n",
        "assert intersection (lst1 = test_list1, lst2 = test_list2) == [9]\n",
        "\n",
        "num_list1 = [4, 9, 5]\n",
        "num_list2 = [9, 4, 9, 8, 4]\n",
        "intersection(num_list1, num_list2)"
      ],
      "metadata": {
        "colab": {
          "base_uri": "https://localhost:8080/"
        },
        "id": "DI6HrEABVZ6T",
        "outputId": "07ebd904-5827-4d84-9b49-4df088fb3932"
      },
      "execution_count": null,
      "outputs": [
        {
          "output_type": "execute_result",
          "data": {
            "text/plain": [
              "[9, 4]"
            ]
          },
          "metadata": {},
          "execution_count": 22
        }
      ]
    },
    {
      "cell_type": "markdown",
      "source": [
        "###EXERCISE 3"
      ],
      "metadata": {
        "id": "aibDKpZ8eM51"
      }
    },
    {
      "cell_type": "code",
      "source": [
        "def count_chars(inp_str):\n",
        "\n",
        "  count = {}\n",
        "  for i in inp_str:\n",
        "    count[i] = count[i] + 1 if (i in count) else 1\n",
        "\n",
        "  return count\n",
        "\n",
        "test_string = 'Happiness'\n",
        "assert count_chars(inp_str = test_string) == {'H': 1, 'a': 1, 'p': 2, 'i': 1, 'n': 1, 'e': 1, 's': 2}\n",
        "\n",
        "string = 'smiles'\n",
        "count_chars(string)"
      ],
      "metadata": {
        "colab": {
          "base_uri": "https://localhost:8080/"
        },
        "id": "J9N1TaU8bfD5",
        "outputId": "6b5f2f22-ebb1-498c-a801-316bace55ef2"
      },
      "execution_count": null,
      "outputs": [
        {
          "output_type": "execute_result",
          "data": {
            "text/plain": [
              "{'s': 2, 'm': 1, 'i': 1, 'l': 1, 'e': 1}"
            ]
          },
          "metadata": {},
          "execution_count": 27
        }
      ]
    },
    {
      "cell_type": "markdown",
      "source": [
        "###EXERCISE 4"
      ],
      "metadata": {
        "id": "YtGEQ1hGdB8H"
      }
    },
    {
      "cell_type": "code",
      "source": [
        "! gdown https://drive.google.com/uc?id=1IBScGdW2xlNsc9v5zSAya548kNgiOrko\n",
        "def count_words(file_path):\n",
        "\n",
        "  with open(file_path) as rf:\n",
        "    l_strip = [s.strip() for s in rf.readlines()]\n",
        "    \n",
        "  str = []\n",
        "  for line in l_strip:\n",
        "    str += line.split(\" \")\n",
        "  new_str = [n.lower() for n in str]\n",
        "\n",
        "  count = {}\n",
        "  for i in new_str:\n",
        "    count[i] = count[i] + 1 if (i in count) else 1\n",
        " \n",
        "  return count\n",
        "\n",
        "file_path = 'P1_data.txt'\n",
        "assert count_words(file_path)['success'] == 3\n",
        "\n",
        "file_path ='P1_data.txt'\n",
        "count_words(file_path)[\"man\"]"
      ],
      "metadata": {
        "id": "0hsTdJD4eHfd",
        "colab": {
          "base_uri": "https://localhost:8080/"
        },
        "outputId": "8912cc1f-2fa0-4ff4-e519-9fdd5fc13fdd"
      },
      "execution_count": null,
      "outputs": [
        {
          "output_type": "stream",
          "name": "stdout",
          "text": [
            "Downloading...\n",
            "From: https://drive.google.com/uc?id=1IBScGdW2xlNsc9v5zSAya548kNgiOrko\n",
            "To: /content/P1_data.txt\n",
            "\r  0% 0.00/747 [00:00<?, ?B/s]\r100% 747/747 [00:00<00:00, 3.15MB/s]\n"
          ]
        },
        {
          "output_type": "execute_result",
          "data": {
            "text/plain": [
              "6"
            ]
          },
          "metadata": {},
          "execution_count": 15
        }
      ]
    },
    {
      "cell_type": "code",
      "source": [
        "# EXERCISE 6\n",
        "data =\"I'm learning Python!\"\n",
        "print (data.split()[1])"
      ],
      "metadata": {
        "colab": {
          "base_uri": "https://localhost:8080/"
        },
        "id": "zCgYpGcbdYWY",
        "outputId": "953674bd-18cb-4837-d178-780e8bd0c943"
      },
      "execution_count": null,
      "outputs": [
        {
          "output_type": "stream",
          "name": "stdout",
          "text": [
            "learning\n"
          ]
        }
      ]
    },
    {
      "cell_type": "code",
      "source": [
        "# EXERCISE 7\n",
        "def check_the_number(N):\n",
        "  list_of_numbers = []\n",
        "  result = \"\"\n",
        "  for i in range(1, 5):\n",
        "    list_of_numbers.append(i)\n",
        "\n",
        "  if N in list_of_numbers:\n",
        "    results = \"True\"\n",
        "  if N not in list_of_numbers:\n",
        "    results = \"False\"\n",
        "  return results\n",
        "\n",
        "N = 7\n",
        "assert check_the_number(N) == \"False\"\n",
        "\n",
        "N = 2\n",
        "results = check_the_number(N)\n",
        "print(results)"
      ],
      "metadata": {
        "colab": {
          "base_uri": "https://localhost:8080/"
        },
        "id": "RMAY0nO7e86p",
        "outputId": "dbe290bc-cb4e-4c9e-d4b1-da49a3f5285b"
      },
      "execution_count": null,
      "outputs": [
        {
          "output_type": "stream",
          "name": "stdout",
          "text": [
            "True\n"
          ]
        }
      ]
    },
    {
      "cell_type": "code",
      "source": [
        "# EXERCISE 8\n",
        "data = \"my list : [ 1 , 2 , [3 , 4]]\"\n",
        "print(type(data))"
      ],
      "metadata": {
        "colab": {
          "base_uri": "https://localhost:8080/"
        },
        "id": "CE6qZddwfY8C",
        "outputId": "5ca55099-0abf-4c5f-8cd7-74eb3b17e6b5"
      },
      "execution_count": null,
      "outputs": [
        {
          "output_type": "stream",
          "name": "stdout",
          "text": [
            "<class 'str'>\n"
          ]
        }
      ]
    },
    {
      "cell_type": "code",
      "source": [
        "# EXERCISE 9\n",
        "\"Eiffel\" > \"Apple\""
      ],
      "metadata": {
        "colab": {
          "base_uri": "https://localhost:8080/"
        },
        "id": "TqbArwchfhIe",
        "outputId": "67e35034-a422-4842-b3c9-432e141357ec"
      },
      "execution_count": null,
      "outputs": [
        {
          "output_type": "execute_result",
          "data": {
            "text/plain": [
              "True"
            ]
          },
          "metadata": {},
          "execution_count": 21
        }
      ]
    },
    {
      "cell_type": "code",
      "source": [
        "# EXERCISE 10\n",
        "n = 0\n",
        "for i in range (5) :\n",
        "  n += i\n",
        "  if n > 0 and n %3 == 0:\n",
        "    break\n",
        "print(n)"
      ],
      "metadata": {
        "colab": {
          "base_uri": "https://localhost:8080/"
        },
        "id": "c5RuVqmtfuz9",
        "outputId": "a1ed354b-970d-4386-d6e4-c714c35b29b1"
      },
      "execution_count": null,
      "outputs": [
        {
          "output_type": "stream",
          "name": "stdout",
          "text": [
            "3\n"
          ]
        }
      ]
    },
    {
      "cell_type": "code",
      "source": [
        "# EXERCISE 11\n",
        "space1 = \"Cherry Blossom After Winter\"\n",
        "space2 = \"Flowers are blooming on the hillsides, which signals the coming of spring\"\n",
        "space = space1 + space2\n",
        "print(space[-6:])"
      ],
      "metadata": {
        "colab": {
          "base_uri": "https://localhost:8080/"
        },
        "id": "iye8d2fBgEcQ",
        "outputId": "0b24554a-c6bf-4d11-e68a-137e6ef3ed0b"
      },
      "execution_count": null,
      "outputs": [
        {
          "output_type": "stream",
          "name": "stdout",
          "text": [
            "spring\n"
          ]
        }
      ]
    },
    {
      "cell_type": "code",
      "source": [
        "# EXERCISE 12\n",
        "my_list = [0 , 1 , 1 , 2 , 1]\n",
        "odd = 1\n",
        "even = 0\n",
        "\n",
        "for number in my_list :\n",
        "  if number % 2 == 0:\n",
        "    odd += number\n",
        "  else:\n",
        "    even += number\n",
        "print ( f\"odd:{ odd}, even:{ even }\")"
      ],
      "metadata": {
        "colab": {
          "base_uri": "https://localhost:8080/"
        },
        "id": "6gXh9st_gYaw",
        "outputId": "009772ea-f5bd-4b3d-f31e-13eb8b355fcd"
      },
      "execution_count": null,
      "outputs": [
        {
          "output_type": "stream",
          "name": "stdout",
          "text": [
            "odd:3, even:3\n"
          ]
        }
      ]
    },
    {
      "cell_type": "code",
      "source": [
        "# EXERCISE 13\n",
        "weather = '@the drizzle in spring makes the air more humid. @@'\n",
        "me = \"i love iT!\"\n",
        "\n",
        "txt = weather.strip('@').capitalize() + me.title()\n",
        "print(txt)"
      ],
      "metadata": {
        "colab": {
          "base_uri": "https://localhost:8080/"
        },
        "id": "O0FB_daPg43v",
        "outputId": "1c3c5954-edad-4380-bf4d-bf24ebbe8b2f"
      },
      "execution_count": null,
      "outputs": [
        {
          "output_type": "stream",
          "name": "stdout",
          "text": [
            "The drizzle in spring makes the air more humid. I Love It!\n"
          ]
        }
      ]
    },
    {
      "cell_type": "code",
      "source": [
        "# EXERCISE 15\n",
        "my_exam = \"Under the drizzle , the flower field seems covering with the glitter water drops!\"\n",
        "print(my_exam.strip('!').split())"
      ],
      "metadata": {
        "colab": {
          "base_uri": "https://localhost:8080/"
        },
        "id": "r-LUffJdhQbS",
        "outputId": "813592d7-612d-4e45-8880-3bb96466449b"
      },
      "execution_count": null,
      "outputs": [
        {
          "output_type": "stream",
          "name": "stdout",
          "text": [
            "['Under', 'the', 'drizzle', ',', 'the', 'flower', 'field', 'seems', 'covering', 'with', 'the', 'glitter', 'water', 'drops']\n"
          ]
        }
      ]
    },
    {
      "cell_type": "code",
      "source": [
        "# EXERCISE 16\n",
        "my_string = \"Peach blossoms bloom in spring\"\n",
        "my_bag_of_word = []\n",
        "for element in my_string :\n",
        "  if element not in my_bag_of_word :\n",
        "    my_bag_of_word.append(element)\n",
        "print(my_bag_of_word)"
      ],
      "metadata": {
        "colab": {
          "base_uri": "https://localhost:8080/"
        },
        "id": "csE2XBr3h1h_",
        "outputId": "0f6dc448-9227-4179-9381-cfe6d3b81491"
      },
      "execution_count": null,
      "outputs": [
        {
          "output_type": "stream",
          "name": "stdout",
          "text": [
            "['P', 'e', 'a', 'c', 'h', ' ', 'b', 'l', 'o', 's', 'm', 'i', 'n', 'p', 'r', 'g']\n"
          ]
        }
      ]
    },
    {
      "cell_type": "code",
      "source": [
        "# EXERCISE 17\n",
        "my_string = \"My name is Tom\"\n",
        "results = my_string.count('m')\n",
        "\n",
        "print(results)"
      ],
      "metadata": {
        "colab": {
          "base_uri": "https://localhost:8080/"
        },
        "id": "ed5bATqRiRnO",
        "outputId": "80526011-9c0e-4a6a-e9cf-ee43fe542485"
      },
      "execution_count": null,
      "outputs": [
        {
          "output_type": "stream",
          "name": "stdout",
          "text": [
            "2\n"
          ]
        }
      ]
    },
    {
      "cell_type": "code",
      "source": [
        "# EXERCISE 18\n",
        "even_numbers = [ x for x in range (1 , 5) if x % 2 == 0]\n",
        "print(even_numbers)"
      ],
      "metadata": {
        "colab": {
          "base_uri": "https://localhost:8080/"
        },
        "id": "jZ0JO68XilbA",
        "outputId": "15a1194c-1fb9-45c5-b06c-81e59b2bf91c"
      },
      "execution_count": null,
      "outputs": [
        {
          "output_type": "stream",
          "name": "stdout",
          "text": [
            "[2, 4]\n"
          ]
        }
      ]
    },
    {
      "cell_type": "code",
      "source": [
        "# EXERCISE 19\n",
        "X = [[1 , 1], [2 , 2]]\n",
        "\n",
        "result = [[0 ,0], [0 ,0]]\n",
        "\n",
        "for i in range (len(X)):\n",
        "  for j in range (len(X[0])):\n",
        "    result[j][i] = X[i][j]\n",
        "\n",
        "for r in result :\n",
        "  print(r)"
      ],
      "metadata": {
        "colab": {
          "base_uri": "https://localhost:8080/"
        },
        "id": "a1eKhNxFi2ud",
        "outputId": "43ad9010-d6f6-4c0c-ebd4-a6c7923e163c"
      },
      "execution_count": null,
      "outputs": [
        {
          "output_type": "stream",
          "name": "stdout",
          "text": [
            "[1, 2]\n",
            "[1, 2]\n"
          ]
        }
      ]
    },
    {
      "cell_type": "code",
      "source": [
        "# EXERCISE 20\n",
        "def my_function(my_data):\n",
        "  rs = 0\n",
        "  for i in my_data:\n",
        "    rs = rs + i\n",
        "  return rs\n",
        "\n",
        "my_list = [1 , 2 , 3]\n",
        "print(my_function(my_data = my_list))"
      ],
      "metadata": {
        "colab": {
          "base_uri": "https://localhost:8080/"
        },
        "id": "M2wDqtbCjYhA",
        "outputId": "dd863d42-b38f-490e-cf4b-b44a43266a7d"
      },
      "execution_count": null,
      "outputs": [
        {
          "output_type": "stream",
          "name": "stdout",
          "text": [
            "6\n"
          ]
        }
      ]
    },
    {
      "cell_type": "code",
      "source": [
        "# EXERCISE 21\n",
        "def my_function ( my_data ):\n",
        "  result = []\n",
        "  for element in data :\n",
        "    if element not in result :\n",
        "      result.append(element)\n",
        "  return result\n",
        "\n",
        "data = [ {'id ': 'M12'} , 10 , 20 , 30]\n",
        "print(my_function(data))"
      ],
      "metadata": {
        "colab": {
          "base_uri": "https://localhost:8080/"
        },
        "id": "SlYbIHNajupp",
        "outputId": "9ee34340-76fd-4e90-db80-946e1770169d"
      },
      "execution_count": null,
      "outputs": [
        {
          "output_type": "stream",
          "name": "stdout",
          "text": [
            "[{'id ': 'M12'}, 10, 20, 30]\n"
          ]
        }
      ]
    },
    {
      "cell_type": "code",
      "source": [
        "# EXERCISE 22\n",
        "def my_function(data, max, min):\n",
        "  result = []\n",
        "  for i in data:\n",
        "    if i < min:\n",
        "      result.append(min)\n",
        "    elif i > max:\n",
        "      result.append(max)\n",
        "    else:\n",
        "      result.append(i)\n",
        "  return result\n",
        "\n",
        "my_list = [5 , 2 , 5 , 0 , 1]\n",
        "max = 1\n",
        "min = 0\n",
        "assert my_function (max = max, min = min, data = my_list ) == [1 , 1 , 1 , 0 , 1]\n",
        "my_list = [10 , 2 , 5 , 0 , 1]\n",
        "max = 2\n",
        "min = 1\n",
        "print(my_function(max = max, min = min, data = my_list))"
      ],
      "metadata": {
        "colab": {
          "base_uri": "https://localhost:8080/"
        },
        "id": "r9drWLvckTJF",
        "outputId": "a87efca4-66fe-47c3-8f1d-298035848141"
      },
      "execution_count": null,
      "outputs": [
        {
          "output_type": "stream",
          "name": "stdout",
          "text": [
            "[2, 2, 2, 1, 1]\n"
          ]
        }
      ]
    },
    {
      "cell_type": "code",
      "source": [
        "# EXERCISE 23\n",
        "def my_function(x, y):\n",
        " x.extend(y)\n",
        " return x\n",
        "\n",
        "list_num1 = ['a', 2, 5]\n",
        "list_num2 = [1, 1]\n",
        "list_num3 = [0, 0]\n",
        "\n",
        "assert my_function(list_num1, my_function(list_num2, list_num3)) == ['a', 2, 5, 1, 1, 0, 0]\n",
        "\n",
        "list_num1 = [1, 2]\n",
        "list_num2 = [3, 4]\n",
        "list_num3 = [0, 0]\n",
        "\n",
        "print(my_function(list_num1, my_function(list_num2, list_num3)))"
      ],
      "metadata": {
        "id": "fY27h0ZZouQN",
        "colab": {
          "base_uri": "https://localhost:8080/"
        },
        "outputId": "eb863b82-c203-4ac8-b16a-7f63894fecd6"
      },
      "execution_count": null,
      "outputs": [
        {
          "output_type": "stream",
          "name": "stdout",
          "text": [
            "[1, 2, 3, 4, 0, 0]\n"
          ]
        }
      ]
    },
    {
      "cell_type": "code",
      "source": [
        "# EXERCISE 24\n",
        "def my_function(n):\n",
        "  return min(n)\n",
        "\n",
        "my_list = [1, 22, 93, -100]\n",
        "assert my_function(my_list) == -100\n",
        "\n",
        "my_list = [1, 2, 3, -1]\n",
        "print(my_function(my_list))"
      ],
      "metadata": {
        "id": "Zgc_kkT0owQa",
        "colab": {
          "base_uri": "https://localhost:8080/"
        },
        "outputId": "365e146d-b635-40c1-fc8d-fa174822fa54"
      },
      "execution_count": null,
      "outputs": [
        {
          "output_type": "stream",
          "name": "stdout",
          "text": [
            "-1\n"
          ]
        }
      ]
    },
    {
      "cell_type": "code",
      "source": [
        "# EXERCISE 25\n",
        "def my_function(n):\n",
        "  return max(n)\n",
        "\n",
        "my_list = [1001, 9, 100, 0]\n",
        "assert my_function(my_list) == 1001\n",
        "\n",
        "my_list = [1, 9, 9, 0]\n",
        "print(my_function(my_list))"
      ],
      "metadata": {
        "id": "AJ3bm6xLoyYz",
        "colab": {
          "base_uri": "https://localhost:8080/"
        },
        "outputId": "8d16bf06-b8e3-41c9-b689-77dcb99e39bb"
      },
      "execution_count": null,
      "outputs": [
        {
          "output_type": "stream",
          "name": "stdout",
          "text": [
            "9\n"
          ]
        }
      ]
    },
    {
      "cell_type": "code",
      "source": [
        "# EXERCISE 26\n",
        "def My_function(integers, number = 1):\n",
        "  return any([bool(i == number) for i in integers])\n",
        "\n",
        "my_list = [1, 3, 9, 4]\n",
        "assert My_function(my_list, -1) == False\n",
        "\n",
        "my_list = [1, 2, 3, 4]\n",
        "print(My_function(my_list, 2))"
      ],
      "metadata": {
        "id": "lw3aSDDqoz_B",
        "colab": {
          "base_uri": "https://localhost:8080/"
        },
        "outputId": "fed9f37c-f11d-4d38-e973-8495a725954b"
      },
      "execution_count": null,
      "outputs": [
        {
          "output_type": "stream",
          "name": "stdout",
          "text": [
            "True\n"
          ]
        }
      ]
    },
    {
      "cell_type": "code",
      "source": [
        "# EXERCISE 27\n",
        "def my_function(list_nums = [0, 1, 2]):\n",
        "  var = 0 \n",
        "  for i in list_nums:\n",
        "    var += i\n",
        "  return var/len(list_nums)\n",
        "\n",
        "assert my_function([4, 6, 8]) == 6\n",
        "print(my_function())"
      ],
      "metadata": {
        "id": "4J6IiAzNo2EG",
        "colab": {
          "base_uri": "https://localhost:8080/"
        },
        "outputId": "50a0880f-8691-4f91-b732-3724f529af43"
      },
      "execution_count": null,
      "outputs": [
        {
          "output_type": "stream",
          "name": "stdout",
          "text": [
            "1.0\n"
          ]
        }
      ]
    },
    {
      "cell_type": "code",
      "source": [
        "# EXERCISE 28\n",
        "def my_function(signal1, signal2):\n",
        "  var = False\n",
        "  for s1 in signal1:\n",
        "    for s2 in signal2 :\n",
        "      if s1 == s2:\n",
        "        var = True\n",
        "        return var\n",
        "print(my_function([1 , 1 , 1], [2 , 2 , 2]))"
      ],
      "metadata": {
        "colab": {
          "base_uri": "https://localhost:8080/"
        },
        "id": "GXwVgbzXkiu7",
        "outputId": "08ad6ebc-b3a4-47ca-c05d-527d6ad9f866"
      },
      "execution_count": null,
      "outputs": [
        {
          "output_type": "stream",
          "name": "stdout",
          "text": [
            "None\n"
          ]
        }
      ]
    },
    {
      "cell_type": "code",
      "source": [
        "# EXERCISE 29\n",
        "def my_function(signal1, signal2):\n",
        "  var = False\n",
        "  for s1 in signal1 :\n",
        "    for s2 in signal2 :\n",
        "      if s1 == s2 :\n",
        "        var = True\n",
        "  return var\n",
        "print(my_function([1 , 2 , 3], [2 , 2]))"
      ],
      "metadata": {
        "colab": {
          "base_uri": "https://localhost:8080/"
        },
        "id": "zN3Tr7FAk1Up",
        "outputId": "864721bb-8373-4c52-f204-c777e99c2742"
      },
      "execution_count": null,
      "outputs": [
        {
          "output_type": "stream",
          "name": "stdout",
          "text": [
            "True\n"
          ]
        }
      ]
    },
    {
      "cell_type": "code",
      "source": [
        "# EXERCISE 30\n",
        "def my_function(data):\n",
        "  var = []\n",
        "  for i in data:\n",
        "    if i%3 == 0:\n",
        "      var.append(i)\n",
        "  return var\n",
        "\n",
        "assert my_function([3, 9, 4, 5]) == [3, 9]\n",
        "print(my_function([1, 2, 3, 5, 6]))"
      ],
      "metadata": {
        "id": "vjrd3liVlRlk",
        "colab": {
          "base_uri": "https://localhost:8080/"
        },
        "outputId": "cc0c2126-a807-4905-f827-af7142fea21f"
      },
      "execution_count": null,
      "outputs": [
        {
          "output_type": "stream",
          "name": "stdout",
          "text": [
            "[3, 6]\n"
          ]
        }
      ]
    },
    {
      "cell_type": "code",
      "source": [
        "# EXERCISE 31\n",
        "def my_function(x):\n",
        "  for i in range(x):\n",
        "    for j in range(x):\n",
        "      if i == j:\n",
        "        print(\"1 \", end =\" \")\n",
        "      else:\n",
        "        print(\"0 \", end =\" \")\n",
        "    print()\n",
        "\n",
        "my_function(2)"
      ],
      "metadata": {
        "colab": {
          "base_uri": "https://localhost:8080/"
        },
        "id": "Xevy1gNulZ4_",
        "outputId": "8e16bed4-94e2-43df-e106-09c0bd4cd412"
      },
      "execution_count": null,
      "outputs": [
        {
          "output_type": "stream",
          "name": "stdout",
          "text": [
            "1  0  \n",
            "0  1  \n"
          ]
        }
      ]
    },
    {
      "cell_type": "code",
      "source": [
        "# EXERCISE 32\n",
        "def my_function(y):\n",
        "  var = 1\n",
        "  i = 1\n",
        "  while (y > 1):\n",
        "    var *= i\n",
        "    i += 1\n",
        "    if i > y:\n",
        "      break\n",
        "  return var\n",
        "  \n",
        "assert my_function(8) == 40320\n",
        "print (my_function(4))"
      ],
      "metadata": {
        "id": "OscIrERtlb8x",
        "colab": {
          "base_uri": "https://localhost:8080/"
        },
        "outputId": "853e00f5-0555-4929-fb55-bebdf05cf6d6"
      },
      "execution_count": null,
      "outputs": [
        {
          "output_type": "stream",
          "name": "stdout",
          "text": [
            "24\n"
          ]
        }
      ]
    },
    {
      "cell_type": "code",
      "source": [
        "# EXERCISE 33\n",
        "def my_function(signal):\n",
        "  var = True\n",
        "  while var:\n",
        "    var = False\n",
        "    for i in range(len(signal) - 1):\n",
        "      if signal[i] > signal[i + 1]:\n",
        "        signal[i], signal[i + 1] = signal[i + 1], signal[i]\n",
        "        var = True\n",
        "\n",
        "my_signal = [1 , 2 , 3 , 0]\n",
        "my_function( my_signal)\n",
        "print(my_signal)"
      ],
      "metadata": {
        "colab": {
          "base_uri": "https://localhost:8080/"
        },
        "id": "QEnwtuhnmAqY",
        "outputId": "37d14278-61d1-4eba-f5a6-9358e6aa28d2"
      },
      "execution_count": null,
      "outputs": [
        {
          "output_type": "stream",
          "name": "stdout",
          "text": [
            "[0, 1, 2, 3]\n"
          ]
        }
      ]
    },
    {
      "cell_type": "code",
      "source": [
        "# EXERCISE 34\n",
        "def sum_function(num1, num2):\n",
        "  '''\n",
        "  Sum of two numbers\n",
        "  input: num1, num2\n",
        "  output: num1 + num2\n",
        "  '''\n",
        "  return num1 + num1\n",
        "\n",
        "print( sum_function.__doc__ )"
      ],
      "metadata": {
        "colab": {
          "base_uri": "https://localhost:8080/"
        },
        "id": "ZzySvFlhmlk_",
        "outputId": "0e67a4fe-53be-4274-df85-acf55653b9f1"
      },
      "execution_count": null,
      "outputs": [
        {
          "output_type": "stream",
          "name": "stdout",
          "text": [
            "\n",
            "  Sum of two numbers\n",
            "  input: num1, num2\n",
            "  output: num1 + num2\n",
            "  \n"
          ]
        }
      ]
    },
    {
      "cell_type": "code",
      "source": [
        "# EXERCISE 35\n",
        "def my_function(x):\n",
        "  return x[::-1]\n",
        "\n",
        "x = 'I can do it'\n",
        "assert my_function(x) == \"ti od nac I\"\n",
        "\n",
        "x = 'apricot'\n",
        "print(my_function(x))"
      ],
      "metadata": {
        "id": "iPieOKUqpHAq",
        "colab": {
          "base_uri": "https://localhost:8080/"
        },
        "outputId": "35b62370-5390-4f8d-da69-350cbeb91b7d"
      },
      "execution_count": null,
      "outputs": [
        {
          "output_type": "stream",
          "name": "stdout",
          "text": [
            "tocirpa\n"
          ]
        }
      ]
    },
    {
      "cell_type": "code",
      "source": [
        "# EXERCISE 36\n",
        "def function_helper(x):\n",
        "  return \"T\" if x > 0 else \"N\"\n",
        "\n",
        "def my_function(data):\n",
        "  res = [function_helper(x) for x in data]\n",
        "  return res\n",
        "\n",
        "data = [10, 0, -10, -1]\n",
        "assert my_function(data) == ['T', 'N', 'N', 'N']\n",
        "\n",
        "data = [2, 3, 5, -1]\n",
        "print(my_function(data))"
      ],
      "metadata": {
        "id": "tJWHkDWkpJT0",
        "colab": {
          "base_uri": "https://localhost:8080/"
        },
        "outputId": "f4d87272-9d0c-4bed-a122-08437e510067"
      },
      "execution_count": null,
      "outputs": [
        {
          "output_type": "stream",
          "name": "stdout",
          "text": [
            "['T', 'T', 'T', 'N']\n"
          ]
        }
      ]
    },
    {
      "cell_type": "code",
      "source": [
        "# EXERCISE 37\n",
        "def function_helper(x, data):\n",
        "  for i in data:\n",
        "    if i == x:\n",
        "      return 0\n",
        "  return 1\n",
        "\n",
        "def my_function(data):\n",
        "  res = []\n",
        "  for i in data:\n",
        "    if function_helper(i, res):\n",
        "      res.append(i)\n",
        "\n",
        "  return res\n",
        "\n",
        "lst = [10, 10, 9, 7, 7]\n",
        "assert my_function(lst) == [10, 9, 7]\n",
        "\n",
        "lst = [9, 9, 8, 1, 1]\n",
        "print(my_function(lst))"
      ],
      "metadata": {
        "colab": {
          "base_uri": "https://localhost:8080/"
        },
        "id": "N8hd934wzYaG",
        "outputId": "581ed41f-3c07-41c7-ecff-b2ee70874366"
      },
      "execution_count": null,
      "outputs": [
        {
          "output_type": "stream",
          "name": "stdout",
          "text": [
            "[9, 8, 1]\n"
          ]
        }
      ]
    },
    {
      "cell_type": "code",
      "source": [],
      "metadata": {
        "id": "CVuwy8aB0iyO"
      },
      "execution_count": null,
      "outputs": []
    }
  ]
}