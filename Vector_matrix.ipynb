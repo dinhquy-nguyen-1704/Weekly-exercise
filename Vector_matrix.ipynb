{
  "nbformat": 4,
  "nbformat_minor": 0,
  "metadata": {
    "colab": {
      "provenance": [],
      "authorship_tag": "ABX9TyP6Ze88TepVRLJ84UvzTrHq",
      "include_colab_link": true
    },
    "kernelspec": {
      "name": "python3",
      "display_name": "Python 3"
    },
    "language_info": {
      "name": "python"
    }
  },
  "cells": [
    {
      "cell_type": "markdown",
      "metadata": {
        "id": "view-in-github",
        "colab_type": "text"
      },
      "source": [
        "<a href=\"https://colab.research.google.com/github/dinhquy-nguyen-1704/Weekly_exercise/blob/main/Vector_matrix.ipynb\" target=\"_parent\"><img src=\"https://colab.research.google.com/assets/colab-badge.svg\" alt=\"Open In Colab\"/></a>"
      ]
    },
    {
      "cell_type": "code",
      "execution_count": 1,
      "metadata": {
        "id": "-pk0Pg_91QrJ"
      },
      "outputs": [],
      "source": [
        "import numpy as np"
      ]
    },
    {
      "cell_type": "code",
      "source": [
        "def computeVectorLength(vector):\n",
        "    len_of_vector = np.linalg.norm(vector)\n",
        "    return len_of_vector"
      ],
      "metadata": {
        "id": "foQ62IMS1qCU"
      },
      "execution_count": 2,
      "outputs": []
    },
    {
      "cell_type": "code",
      "source": [
        "# EXERCISE 1\n",
        "vector = np.array([-2, 4, 9, 21])\n",
        "result = computeVectorLength([vector])\n",
        "print(round(result,2))"
      ],
      "metadata": {
        "colab": {
          "base_uri": "https://localhost:8080/"
        },
        "id": "FsarA4yO12LB",
        "outputId": "b5791c78-3f18-4fd1-c58a-9934bb31fc80"
      },
      "execution_count": 3,
      "outputs": [
        {
          "output_type": "stream",
          "name": "stdout",
          "text": [
            "23.28\n"
          ]
        }
      ]
    },
    {
      "cell_type": "code",
      "source": [
        "def computeDotProduct(vector1, vector2):\n",
        "  result = vector1.T @ vector2\n",
        "  return result"
      ],
      "metadata": {
        "id": "gb7Vs6NW17Lo"
      },
      "execution_count": 4,
      "outputs": []
    },
    {
      "cell_type": "code",
      "source": [
        "# EXERCISE 2\n",
        "v1 = np.array([0, 1, -1, 2])\n",
        "v2 = np.array([2, 5, 1, 0])\n",
        "result = computeDotProduct(v1, v2)\n",
        "print(round(result,2))"
      ],
      "metadata": {
        "colab": {
          "base_uri": "https://localhost:8080/"
        },
        "id": "7nDuwvWJ2vZg",
        "outputId": "522ea211-3bf8-4e43-fb6e-226a59703831"
      },
      "execution_count": 5,
      "outputs": [
        {
          "output_type": "stream",
          "name": "stdout",
          "text": [
            "4\n"
          ]
        }
      ]
    },
    {
      "cell_type": "code",
      "source": [
        "# EXERCISE 3\n",
        "x = np.array([[1, 2],\n",
        "[3, 4]])\n",
        "k = np.array([1, 2])\n",
        "print('result \\n', x.dot(k))"
      ],
      "metadata": {
        "colab": {
          "base_uri": "https://localhost:8080/"
        },
        "id": "L01rp0Qj21fG",
        "outputId": "09bfe68e-e782-4df9-8de3-2672e3643d75"
      },
      "execution_count": 6,
      "outputs": [
        {
          "output_type": "stream",
          "name": "stdout",
          "text": [
            "result \n",
            " [ 5 11]\n"
          ]
        }
      ]
    },
    {
      "cell_type": "code",
      "source": [
        "# EXERCISE 4\n",
        "x = np.array([[-1, 2], [3, -4]])\n",
        "k = np.array([1, 2])\n",
        "print('result \\n', x@k)"
      ],
      "metadata": {
        "colab": {
          "base_uri": "https://localhost:8080/"
        },
        "id": "Q87HSeU63nUM",
        "outputId": "8ce80b5f-0b39-4066-924f-3ce10615bfe3"
      },
      "execution_count": 7,
      "outputs": [
        {
          "output_type": "stream",
          "name": "stdout",
          "text": [
            "result \n",
            " [ 3 -5]\n"
          ]
        }
      ]
    },
    {
      "cell_type": "code",
      "source": [
        "def matrix_multi_vector(matrix, vector):\n",
        "    result = matrix @ vector\n",
        "    return result"
      ],
      "metadata": {
        "id": "zk0CydO04Lh4"
      },
      "execution_count": 8,
      "outputs": []
    },
    {
      "cell_type": "code",
      "source": [
        "# EXERCISE 5\n",
        "m = np.array([[-1, 1, 1], [0, -4, 9]])\n",
        "v = np.array([0, 2, 1])\n",
        "result = matrix_multi_vector(m, v)\n",
        "print(result)"
      ],
      "metadata": {
        "colab": {
          "base_uri": "https://localhost:8080/"
        },
        "id": "uiNYzSsB4zp_",
        "outputId": "7ad53293-4e7a-4690-c248-ee96dffc2b02"
      },
      "execution_count": 9,
      "outputs": [
        {
          "output_type": "stream",
          "name": "stdout",
          "text": [
            "[3 1]\n"
          ]
        }
      ]
    },
    {
      "cell_type": "code",
      "source": [
        "def matrix_multi_matrix(matrix1, matrix2):\n",
        "    result = matrix1 @ matrix2\n",
        "    return result"
      ],
      "metadata": {
        "id": "ftHjFb1N43pS"
      },
      "execution_count": 10,
      "outputs": []
    },
    {
      "cell_type": "code",
      "source": [
        "# EXERCISE 6\n",
        "m1 = np.array([[0, 1, 2], [2, -3, 1]])\n",
        "m2 = np.array([[1, -3],[6, 1], [0, -1]])\n",
        "result = matrix_multi_matrix(m1, m2)\n",
        "print(result)"
      ],
      "metadata": {
        "colab": {
          "base_uri": "https://localhost:8080/"
        },
        "id": "lCfCxVKD636j",
        "outputId": "a315b285-5ec3-4a0b-e73c-6b3c80e5ae46"
      },
      "execution_count": 11,
      "outputs": [
        {
          "output_type": "stream",
          "name": "stdout",
          "text": [
            "[[  6  -1]\n",
            " [-16 -10]]\n"
          ]
        }
      ]
    },
    {
      "cell_type": "code",
      "source": [
        "# EXERCISE 7\n",
        "m1 = np.eye(3)\n",
        "m2 = np.array([[1, 1, 1],[2, 2, 2], [3, 3, 3]])\n",
        "result = m1@m2\n",
        "print(result)"
      ],
      "metadata": {
        "colab": {
          "base_uri": "https://localhost:8080/"
        },
        "id": "WyUcov3j6-L4",
        "outputId": "b2576370-e2c8-40b2-c311-a53c8afeb252"
      },
      "execution_count": 12,
      "outputs": [
        {
          "output_type": "stream",
          "name": "stdout",
          "text": [
            "[[1. 1. 1.]\n",
            " [2. 2. 2.]\n",
            " [3. 3. 3.]]\n"
          ]
        }
      ]
    },
    {
      "cell_type": "code",
      "source": [
        "# EXERCISE 8\n",
        "m1 = np.eye(2)\n",
        "m1 = np.reshape(m1,(-1,4))[0]\n",
        "m2 = np.array([[1, 1, 1, 1],[2, 2, 2, 2], [3, 3, 3, 3], [4, 4, 4, 4]])\n",
        "result = m1@m2\n",
        "print(result)"
      ],
      "metadata": {
        "colab": {
          "base_uri": "https://localhost:8080/"
        },
        "id": "BUGyRBkV7RsB",
        "outputId": "49359026-5c10-4492-db92-f73dc82adcc4"
      },
      "execution_count": 13,
      "outputs": [
        {
          "output_type": "stream",
          "name": "stdout",
          "text": [
            "[5. 5. 5. 5.]\n"
          ]
        }
      ]
    },
    {
      "cell_type": "code",
      "source": [
        "# EXERCISE 9\n",
        "m1 = np.array([[1, 2], [3, 4]])\n",
        "print(np.reshape(m1,(-1,4), \"F\"))\n",
        "m1 = np.reshape(m1,(-1,4), \"F\")[0]\n",
        "m2 = np.array([[1, 1, 1, 1],[2, 2, 2, 2], [3, 3, 3, 3], [4, 4, 4, 4]])\n",
        "result = m1@m2\n",
        "print(result)\n",
        "print(type(result))"
      ],
      "metadata": {
        "colab": {
          "base_uri": "https://localhost:8080/"
        },
        "id": "B4d8wPFN7qbx",
        "outputId": "c27ed7ca-801a-485a-9723-83339e78f81a"
      },
      "execution_count": 14,
      "outputs": [
        {
          "output_type": "stream",
          "name": "stdout",
          "text": [
            "[[1 3 2 4]]\n",
            "[29 29 29 29]\n",
            "<class 'numpy.ndarray'>\n"
          ]
        }
      ]
    },
    {
      "cell_type": "code",
      "source": [
        "def inverse_matrix(matrix):\n",
        "  det = np.linalg.det(matrix)\n",
        "  m = np.array([[matrix[1][1], -matrix[0][1]], [-matrix[1][0], matrix[0][0]]])\n",
        "  if det != 0:\n",
        "    result = (1/det)*m\n",
        "  else:\n",
        "    result = None\n",
        "  return result"
      ],
      "metadata": {
        "id": "x-wb0XxY8Fzz"
      },
      "execution_count": 15,
      "outputs": []
    },
    {
      "cell_type": "code",
      "source": [
        "# EXERCISE 10\n",
        "m1 = np.array([[-2, 6], [8, -4]])\n",
        "result = inverse_matrix(m1)\n",
        "print(result)"
      ],
      "metadata": {
        "colab": {
          "base_uri": "https://localhost:8080/"
        },
        "id": "BCf9razh9-67",
        "outputId": "018e92f6-7c1c-4cd5-887d-8a3c1d7cad82"
      },
      "execution_count": 16,
      "outputs": [
        {
          "output_type": "stream",
          "name": "stdout",
          "text": [
            "[[0.1  0.15]\n",
            " [0.2  0.05]]\n"
          ]
        }
      ]
    },
    {
      "cell_type": "code",
      "source": [
        "def compute_eigenvalues_eigenvectors(matrix):\n",
        "    eigenvalues,eigenvectors = np.linalg.eig(matrix)\n",
        "    return eigenvalues,eigenvectors"
      ],
      "metadata": {
        "id": "eXynvDdg-EZH"
      },
      "execution_count": 17,
      "outputs": []
    },
    {
      "cell_type": "code",
      "source": [
        "# EXERCISE 11\n",
        "matrix = np.array([[0.9, 0.2], [0.1, 0.8]])\n",
        "eigenvalues, eigenvectors = compute_eigenvalues_eigenvectors(matrix)\n",
        "print(eigenvectors)"
      ],
      "metadata": {
        "colab": {
          "base_uri": "https://localhost:8080/"
        },
        "id": "XthaMlm7gqj2",
        "outputId": "efaebfd4-5ca2-451b-edb3-2636f92a552b"
      },
      "execution_count": 18,
      "outputs": [
        {
          "output_type": "stream",
          "name": "stdout",
          "text": [
            "[[ 0.89442719 -0.70710678]\n",
            " [ 0.4472136   0.70710678]]\n"
          ]
        }
      ]
    },
    {
      "cell_type": "code",
      "source": [
        "def compute_cosine(v1, v2):\n",
        "  tich_vo_huong = v1.T @ v2\n",
        "  cos_sin = tich_vo_huong/(np.linalg.norm(v1)*np.linalg.norm(v2))\n",
        "  return cos_sin"
      ],
      "metadata": {
        "id": "JbX0cl8vg_5d"
      },
      "execution_count": 19,
      "outputs": []
    },
    {
      "cell_type": "code",
      "source": [
        "x = np.array([1, 2, 3, 4])\n",
        "y = np.array([1, 0, 3, 0])\n",
        "result = compute_cosine(x,y)\n",
        "print(round(result, 3))"
      ],
      "metadata": {
        "colab": {
          "base_uri": "https://localhost:8080/"
        },
        "id": "v5iDINexgviH",
        "outputId": "1bd5db31-c085-4871-aaba-46ec61858d32"
      },
      "execution_count": 20,
      "outputs": [
        {
          "output_type": "stream",
          "name": "stdout",
          "text": [
            "0.577\n"
          ]
        }
      ]
    }
  ]
}