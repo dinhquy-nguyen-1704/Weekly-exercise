{
  "nbformat": 4,
  "nbformat_minor": 0,
  "metadata": {
    "colab": {
      "provenance": [],
      "authorship_tag": "ABX9TyNxWYCqfZvr7cA30aK5rKcR",
      "include_colab_link": true
    },
    "kernelspec": {
      "name": "python3",
      "display_name": "Python 3"
    },
    "language_info": {
      "name": "python"
    }
  },
  "cells": [
    {
      "cell_type": "markdown",
      "metadata": {
        "id": "view-in-github",
        "colab_type": "text"
      },
      "source": [
        "<a href=\"https://colab.research.google.com/github/dinhquy-nguyen-1704/weekly-exercise/blob/main/Week3_OOP.ipynb\" target=\"_parent\"><img src=\"https://colab.research.google.com/assets/colab-badge.svg\" alt=\"Open In Colab\"/></a>"
      ]
    },
    {
      "cell_type": "code",
      "execution_count": null,
      "metadata": {
        "colab": {
          "base_uri": "https://localhost:8080/"
        },
        "id": "qJ41DL2VglvA",
        "outputId": "379c5976-e055-4eab-e9e2-b38e957d5ce0"
      },
      "outputs": [
        {
          "output_type": "stream",
          "name": "stdout",
          "text": [
            "Identity: 100 - Location: Vietnam\n"
          ]
        }
      ],
      "source": [
        "# EXERCISE 2\n",
        "class Manufacturer:\n",
        "  def __init__(self, identity: int, location: str):\n",
        "    self.__identity = identity\n",
        "    self.__location = location\n",
        "\n",
        "  def describe(self):\n",
        "    print(f\"Identity: {self.__identity} - Location: {self.__location}\")\n",
        "\n",
        "manu1 = Manufacturer(identity = 100, location = \"Vietnam\")\n",
        "manu1.describe()"
      ]
    },
    {
      "cell_type": "code",
      "source": [
        "# EXERCISE 3\n",
        "class Manufacturer:\n",
        "  def __init__(self, identity: int, location: str):\n",
        "    self.__identity = identity\n",
        "    self.__location = location\n",
        "\n",
        "  def describe(self):\n",
        "    print(f\"Identity: {self.__identity} - Location: {self.__location}\")\n",
        "\n",
        "class Device:\n",
        "  def __init__(self, name: str, price: float, identity: int, location: str):\n",
        "    self.__name = name\n",
        "    self.__price = price\n",
        "    self.__manufacturer = Manufacturer(identity, location)\n",
        "\n",
        "  def describe(self):\n",
        "    print(f\"Name: {self.__name} - Price: {self.__price}\")\n",
        "\n",
        "device1 = Device(\"touchpad\", 3.3, 1111, \"Vietnam\")\n",
        "device1.describe()"
      ],
      "metadata": {
        "colab": {
          "base_uri": "https://localhost:8080/"
        },
        "id": "I3RdEh0ridMq",
        "outputId": "d59d4606-19c2-46f5-ec7d-f1b4c838b267"
      },
      "execution_count": null,
      "outputs": [
        {
          "output_type": "stream",
          "name": "stdout",
          "text": [
            "Name: touchpad - Price: 3.3\n"
          ]
        }
      ]
    },
    {
      "cell_type": "code",
      "source": [
        "# EXERCISE 4\n",
        "class Manufacturer:\n",
        "  def __init__(self, identity: int, location: str):\n",
        "    self.__identity = identity\n",
        "    self.__location = location\n",
        "\n",
        "  def describe(self):\n",
        "    print(f\"Identity: {self.__identity} - Location: {self.__location}\")\n",
        "\n",
        "class Device:\n",
        "  def __init__(self, name: str, price: float, manu: Manufacturer):\n",
        "    self.__name = name\n",
        "    self.__price = price\n",
        "    self.__manufacturer = manu\n",
        "\n",
        "  def describe(self):\n",
        "    print(f\"Name: {self.__name} - Price: {self.__price}\")\n",
        "    self.__manufacturer.describe()\n",
        "\n",
        "manu1 = Manufacturer(1111, \"Vietnam\")\n",
        "device1 = Device(\"touchpad\", 3.3, manu1)\n",
        "device1.describe()"
      ],
      "metadata": {
        "colab": {
          "base_uri": "https://localhost:8080/"
        },
        "id": "l7Stxr8xkDwC",
        "outputId": "33b9892a-d325-4850-e600-b2bcb59db11c"
      },
      "execution_count": null,
      "outputs": [
        {
          "output_type": "stream",
          "name": "stdout",
          "text": [
            "Name: touchpad - Price: 3.3\n",
            "Identity: 1111 - Location: Vietnam\n"
          ]
        }
      ]
    },
    {
      "cell_type": "code",
      "source": [
        "# EXERCISE 5\n",
        "from abc import ABC, abstractmethod\n",
        "\n",
        "class Person(ABC):\n",
        "  def __init__ (self, name :str, yob :int):\n",
        "    self.__name = name\n",
        "    self.__yob = yob\n",
        "\n",
        "  def getYoB(self):\n",
        "    return self.__yob\n",
        "\n",
        "  @abstractmethod\n",
        "  def describe(self):\n",
        "    pass\n",
        "\n",
        "\n",
        "class Student(Person):\n",
        "  def __init__(self, name: str, yob: int, grade: str):\n",
        "    Person.__name = name\n",
        "    Person.__yob = yob\n",
        "    self.__grade = grade\n",
        "\n",
        "  def describe(self):\n",
        "    print(f\"Student - Name: {Person.__name} - YoB: {Person.__yob} - Grade: {self.__grade}\")\n",
        "\n",
        "student1 = Student(name = \"studentZ2023\", yob = 2011, grade = \"6\")\n",
        "student1.describe()"
      ],
      "metadata": {
        "id": "aHiRJVw7mmTR",
        "colab": {
          "base_uri": "https://localhost:8080/"
        },
        "outputId": "f7da8fbd-6172-4750-9d5d-d789fba12543"
      },
      "execution_count": null,
      "outputs": [
        {
          "output_type": "stream",
          "name": "stdout",
          "text": [
            "Student - Name: studentZ2023 - YoB: 2011 - Grade: 6\n"
          ]
        }
      ]
    },
    {
      "cell_type": "code",
      "source": [
        "# EXERCISE 6\n",
        "from abc import ABC, abstractmethod\n",
        "\n",
        "class Person(ABC):\n",
        "  def __init__ (self, name: str, yob: int):\n",
        "    self.__name = name\n",
        "    self.__yob = yob\n",
        "\n",
        "def getYoB(self):\n",
        "  return self.__yob\n",
        "\n",
        "@abstractmethod\n",
        "def describe(self):\n",
        "  pass\n",
        "\n",
        "\n",
        "class Teacher(Person):\n",
        "  def __init__ (self, name: str, yob: int, subject: str):\n",
        "    Person.__name = name\n",
        "    Person.__yob = yob\n",
        "    self.__subject = subject\n",
        "\n",
        "  def describe(self):\n",
        "    print(f\"Teacher - Name: {Person.__name} - YoB: {Person.__yob} - Subject: {self.__subject}\")\n",
        "\n",
        "\n",
        "teacher1 = Teacher(name = \"teacherZ2023\", yob = 1991, subject = \"History\")\n",
        "teacher1.describe()"
      ],
      "metadata": {
        "colab": {
          "base_uri": "https://localhost:8080/"
        },
        "id": "qIlIkSE8KRwv",
        "outputId": "7c4b70fc-b1a1-4158-9ed5-4a24ae0dc1a3"
      },
      "execution_count": null,
      "outputs": [
        {
          "output_type": "stream",
          "name": "stdout",
          "text": [
            "Teacher - Name: teacherZ2023 - YoB: 1991 - Subject: History\n"
          ]
        }
      ]
    },
    {
      "cell_type": "code",
      "source": [
        "# EXERCISE 7\n",
        "from abc import ABC, abstractmethod\n",
        "\n",
        "class Person(ABC):\n",
        "  def __init__ (self, name: str, yob: int):\n",
        "    self.__name = name\n",
        "    self.__yob = yob\n",
        "\n",
        "def getYoB(self):\n",
        "  return self.__yob\n",
        "\n",
        "@abstractmethod\n",
        "def describe(self):\n",
        "  pass\n",
        "\n",
        "\n",
        "class Doctor(Person):\n",
        "  def __init__ (self, name: str, yob: int, specialist: str):\n",
        "    Person.__name = name\n",
        "    Person.__yob = yob\n",
        "    self.__specialist = specialist\n",
        "\n",
        "  def describe(self):\n",
        "    print(f\"Doctor - Name: {Person.__name} - YoB: {Person.__yob} - Specialist: {self.__specialist}\")\n",
        "\n",
        "\n",
        "doctor1 = Doctor(name = \"doctorZ2023\", yob = 1981, specialist = \"Endocrinologists\")\n",
        "doctor1.describe()"
      ],
      "metadata": {
        "colab": {
          "base_uri": "https://localhost:8080/"
        },
        "id": "bnG6M0OoUWv2",
        "outputId": "354cc57a-b834-4765-e54b-c0d3c922966b"
      },
      "execution_count": null,
      "outputs": [
        {
          "output_type": "stream",
          "name": "stdout",
          "text": [
            "Doctor - Name: doctorZ2023 - YoB: 1981 - Specialist: Endocrinologists\n"
          ]
        }
      ]
    },
    {
      "cell_type": "code",
      "source": [
        "# EXERCISE 8 (KHÔNG BIẾT LÀM)\n",
        "class Ward:\n",
        "  def __init__(self, name: str):\n",
        "    self.__name = name \n",
        "    self.__lst = []\n",
        "\n",
        "  def addPerson(self, person: Person):\n",
        "    self.__person = person\n",
        "    self.__lst.append(self.__person)\n",
        "\n",
        "\n",
        "  def describe(self):\n",
        "    for i in self.__lst:\n",
        "      i.describe()\n",
        "\n",
        "\n",
        "student1 = Student(name = \"studentK - 111\", yob = 2012, grade = \"5\")\n",
        "teacher1 = Teacher(name = \"teacherK - 222\", yob = 1966, subject = \"Math\")\n",
        "doctor1 = Doctor(name = \"doctorK - 333\", yob = 1965, specialist = \"Endocrinologists\")\n",
        "teacher2 = Teacher(name = \"teacherK - 444\", yob = 1945, subject = \"History\")\n",
        "doctor2 = Doctor(name = \"doctorK - 555\", yob = 1975, specialist = \"Cardiologists\")\n",
        "ward1 = Ward(name = \"Ward11\")\n",
        "ward1.addPerson(student1)\n",
        "ward1.addPerson(teacher1)\n",
        "ward1.addPerson(teacher2)\n",
        "ward1.addPerson(doctor1)\n",
        "ward1.addPerson(doctor2)\n",
        "ward1.describe()"
      ],
      "metadata": {
        "colab": {
          "base_uri": "https://localhost:8080/"
        },
        "id": "U5SI1TupVC9o",
        "outputId": "d7698504-fe63-4779-eb21-6a1f2b6fc7b3"
      },
      "execution_count": null,
      "outputs": [
        {
          "output_type": "stream",
          "name": "stdout",
          "text": [
            "Student - Name: studentK - 111 - YoB: 2012 - Grade: 5\n",
            "Teacher - Name: teacherK - 444 - YoB: 1945 - Subject: Math\n",
            "Teacher - Name: teacherK - 444 - YoB: 1945 - Subject: History\n",
            "Doctor - Name: doctorK - 555 - YoB: 1975 - Specialist: Endocrinologists\n",
            "Doctor - Name: doctorK - 555 - YoB: 1975 - Specialist: Cardiologists\n"
          ]
        }
      ]
    },
    {
      "cell_type": "code",
      "source": [
        "# EXERCISE 9\n",
        "class MyStack:\n",
        "    def __init__(self, capacity):\n",
        "        self.__capacity = capacity\n",
        "        self.__stack = []\n",
        "\n",
        "    def isEmpty(self):\n",
        "        return len(self.__stack) == 0\n",
        "\n",
        "\n",
        "stack1 = MyStack(capacity=5)\n",
        "print(stack1.isEmpty())"
      ],
      "metadata": {
        "colab": {
          "base_uri": "https://localhost:8080/"
        },
        "id": "5t4ZK8yf2l-6",
        "outputId": "090bab72-e22f-4f08-aa6d-0d1e76a57b3e"
      },
      "execution_count": null,
      "outputs": [
        {
          "output_type": "stream",
          "name": "stdout",
          "text": [
            "True\n"
          ]
        }
      ]
    },
    {
      "cell_type": "code",
      "source": [
        "# EXERCISE 10\n",
        "class MyStack:\n",
        "  def __init__(self, capacity):\n",
        "    self.__capacity = capacity\n",
        "    self.__stack = [1, 2, 3, 4, 5]\n",
        "\n",
        "  def isFull(self):\n",
        "    return len(self.__stack) == self.__capacity\n",
        "\n",
        "\n",
        "stack1 = MyStack(5)\n",
        "print(stack1.isFull())"
      ],
      "metadata": {
        "colab": {
          "base_uri": "https://localhost:8080/"
        },
        "id": "8C7eyMBa5KNj",
        "outputId": "eb79d8d6-f2d2-4c5f-c3a3-d41d050c8f93"
      },
      "execution_count": null,
      "outputs": [
        {
          "output_type": "stream",
          "name": "stdout",
          "text": [
            "True\n"
          ]
        }
      ]
    },
    {
      "cell_type": "code",
      "source": [
        "# EXERCISE 11\n",
        "class MyStack:\n",
        "    def __init__(self, capacity):\n",
        "        self.__capacity = capacity\n",
        "        self.__stack = []\n",
        "\n",
        "    def isFull(self):\n",
        "        return len(self.__stack) == self.__capacity\n",
        "\n",
        "    def push(self, value):\n",
        "        self.__value = value\n",
        "        self.__stack.append(self.__value)\n",
        "\n",
        "\n",
        "stack1 = MyStack(capacity = 5)\n",
        "stack1.push(1)\n",
        "stack1.push(2)\n",
        "print(stack1.isFull())"
      ],
      "metadata": {
        "id": "z-f3KCPF6ko2",
        "colab": {
          "base_uri": "https://localhost:8080/"
        },
        "outputId": "166ff247-6688-4a18-b080-5fb09a02d361"
      },
      "execution_count": null,
      "outputs": [
        {
          "output_type": "stream",
          "name": "stdout",
          "text": [
            "False\n"
          ]
        }
      ]
    },
    {
      "cell_type": "code",
      "source": [
        "# EXERCISE 12\n",
        "class MyStack:\n",
        "    def __init__(self, capacity):\n",
        "        self.__capacity = capacity\n",
        "        self.__stack = []\n",
        "\n",
        "    def isEmpty(self):\n",
        "        return len(self.__stack) == 0\n",
        "\n",
        "    def isFull(self):\n",
        "        return len(self.__stack) == self.__capacity\n",
        "\n",
        "    def push(self, value):\n",
        "        self.__value = value\n",
        "        self.__stack.append(self.__value)\n",
        "            \n",
        "    def top(self):\n",
        "        return self.__stack[-1]\n",
        "\n",
        "\n",
        "stack1 = MyStack(capacity = 5)\n",
        "stack1.push(1)\n",
        "stack1.push(2)\n",
        "print(stack1.top())"
      ],
      "metadata": {
        "colab": {
          "base_uri": "https://localhost:8080/"
        },
        "id": "AFWay8Uryez5",
        "outputId": "4aa67bb1-a574-4fed-dc28-6fd9fd144048"
      },
      "execution_count": null,
      "outputs": [
        {
          "output_type": "stream",
          "name": "stdout",
          "text": [
            "2\n"
          ]
        }
      ]
    },
    {
      "cell_type": "code",
      "source": [
        "# EXERCISE 13\n",
        "class MyQueue:\n",
        "  def __init__(self, capacity):\n",
        "    self.__capacity = capacity\n",
        "    self.__queue = []\n",
        "\n",
        "  def isEmpty(self):\n",
        "    return len(self.__queue) == 0\n",
        "\n",
        "\n",
        "queue1 = MyQueue(capacity = 5)\n",
        "print(queue1.isEmpty())"
      ],
      "metadata": {
        "colab": {
          "base_uri": "https://localhost:8080/"
        },
        "id": "PRu8gYoMyhMM",
        "outputId": "37a92b4f-7674-4e70-9bb6-87bc72f4a67c"
      },
      "execution_count": null,
      "outputs": [
        {
          "output_type": "stream",
          "name": "stdout",
          "text": [
            "True\n"
          ]
        }
      ]
    },
    {
      "cell_type": "code",
      "source": [
        "# EXERCISE 14\n",
        "class MyQueue:\n",
        "  def __init__(self, capacity):\n",
        "    self.__capacity = capacity\n",
        "    self.__queue = []\n",
        "\n",
        "  def isFull(self):\n",
        "    return len(self.__queue) == self.__capacity\n",
        "\n",
        "\n",
        "queue1 = MyQueue(capacity = 5)\n",
        "print(queue1.isFull())"
      ],
      "metadata": {
        "colab": {
          "base_uri": "https://localhost:8080/"
        },
        "id": "Wh6EG7EqzOYH",
        "outputId": "f79f1484-fd6f-46f1-f282-fa0154ede064"
      },
      "execution_count": null,
      "outputs": [
        {
          "output_type": "stream",
          "name": "stdout",
          "text": [
            "False\n"
          ]
        }
      ]
    },
    {
      "cell_type": "code",
      "source": [
        "# EXERCISE 15\n",
        "class MyQueue:\n",
        "    def __init__(self, capacity):\n",
        "        self.__capacity = capacity\n",
        "        self.__queue = []\n",
        "    \n",
        "    def isFull(self):\n",
        "        return len(self.__queue) == self.__capacity \n",
        "    \n",
        "    def enqueue(self, value):\n",
        "        self.__value = value\n",
        "        self.__queue.append(self.__value)\n",
        "\n",
        "\n",
        "queue1 = MyQueue(capacity = 5)\n",
        "queue1.enqueue(1)\n",
        "queue1.enqueue(2)\n",
        "print(queue1.isFull())"
      ],
      "metadata": {
        "colab": {
          "base_uri": "https://localhost:8080/"
        },
        "id": "aiGHmTyt0C9M",
        "outputId": "2d77e6f3-8d0b-43be-896c-0270b5b87eae"
      },
      "execution_count": null,
      "outputs": [
        {
          "output_type": "stream",
          "name": "stdout",
          "text": [
            "False\n"
          ]
        }
      ]
    },
    {
      "cell_type": "code",
      "source": [
        "# EXERCISE 16\n",
        "class MyQueue:\n",
        "    def __init__(self, capacity):\n",
        "        self.__capacity = capacity\n",
        "        self.__queue = []\n",
        "    \n",
        "    def isEmpty(self):\n",
        "        return len(self.__queue) == 0\n",
        "    \n",
        "    def isFull(self):\n",
        "        return len(self.__queue) == self.__capacity \n",
        "    \n",
        "    def enqueue(self, value):\n",
        "        self.__value = value\n",
        "        self.__queue.append(self.__value)\n",
        "    \n",
        "    def front(self):\n",
        "        return self.__queue[0]\n",
        "\n",
        "\n",
        "queue1 = MyQueue(capacity = 5)\n",
        "queue1.enqueue(1)\n",
        "queue1.enqueue(2)\n",
        "print(queue1.front())"
      ],
      "metadata": {
        "colab": {
          "base_uri": "https://localhost:8080/"
        },
        "id": "KvZERWly208h",
        "outputId": "8ba61aa3-8568-4166-b884-0a75b7d02438"
      },
      "execution_count": null,
      "outputs": [
        {
          "output_type": "stream",
          "name": "stdout",
          "text": [
            "1\n"
          ]
        }
      ]
    }
  ]
}